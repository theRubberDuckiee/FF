{
  "cells": [
    {
      "cell_type": "markdown",
      "metadata": {
        "id": "view-in-github",
        "colab_type": "text"
      },
      "source": [
        "<a href=\"https://colab.research.google.com/github/theRubberDuckiee/FF/blob/main/_Main_2023_OwnersBox.ipynb\" target=\"_parent\"><img src=\"https://colab.research.google.com/assets/colab-badge.svg\" alt=\"Open In Colab\"/></a>"
      ]
    },
    {
      "cell_type": "code",
      "execution_count": null,
      "metadata": {
        "colab": {
          "base_uri": "https://localhost:8080/"
        },
        "id": "_mJV9m0Ar2xP",
        "outputId": "7bb83c1f-df5c-4ad7-a6fe-e6e97445052e"
      },
      "outputs": [
        {
          "output_type": "stream",
          "name": "stdout",
          "text": [
            "Requirement already satisfied: pulp in /usr/local/lib/python3.10/dist-packages (2.7.0)\n"
          ]
        }
      ],
      "source": [
        "pip install pulp"
      ]
    },
    {
      "cell_type": "code",
      "execution_count": null,
      "metadata": {
        "id": "JeTu69yysvrK"
      },
      "outputs": [],
      "source": [
        "# Importing packages\n",
        "import pandas as pd\n",
        "import numpy as np\n",
        "import matplotlib.pyplot as plt\n",
        "from pulp import *\n",
        "import tensorflow as tf\n",
        "from statistics import median\n",
        "from google.colab import files\n",
        "from keras.models import Sequential\n",
        "from keras.layers import Dense\n",
        "from keras.callbacks import ModelCheckpoint\n",
        "from keras.optimizers import Adam\n",
        "from keras.layers import Dropout\n",
        "from keras.constraints import MaxNorm\n",
        "from keras.models import load_model\n",
        "from sklearn.preprocessing import StandardScaler\n",
        "from sklearn.model_selection import train_test_split\n",
        "import itertools"
      ]
    },
    {
      "cell_type": "markdown",
      "metadata": {
        "id": "fEHMcW1os4hQ"
      },
      "source": [
        "***Week Needs Updating***"
      ]
    },
    {
      "cell_type": "code",
      "execution_count": null,
      "metadata": {
        "id": "jrIbtAd-s472"
      },
      "outputs": [],
      "source": [
        "# Current week in NFL\n",
        "week = 5"
      ]
    },
    {
      "cell_type": "code",
      "execution_count": null,
      "metadata": {
        "id": "hhr0bnbXtBNi"
      },
      "outputs": [],
      "source": [
        "# # Bringing in all the data\n",
        "df_2013 = []\n",
        "for i in range(1, 18):\n",
        "    df = locals()[f'df{i}'] = pd.read_csv(fr\"drive/MyDrive/Fantasy-Football-Coding/Fantasy-Data/OwnersBox/Combined/2013/combined-wk{i}.csv\")\n",
        "    df_2013.append(df)\n",
        "df_2013 = pd.concat(df_2013)\n",
        "df_2013 = df_2013.loc[df_2013.Position.isin(['QB', 'RB', 'WR', 'TE'])]\n",
        "\n",
        "df_2014 = []\n",
        "for i in range(1, 18):\n",
        "    df = locals()[f'df{i}'] = pd.read_csv(fr\"drive/MyDrive/Fantasy-Football-Coding/Fantasy-Data/OwnersBox/Combined/2014/combined-wk{i}.csv\")\n",
        "    df_2014.append(df)\n",
        "df_2014 = pd.concat(df_2014)\n",
        "df_2014 = df_2014.loc[df_2014.Position.isin(['QB', 'RB', 'WR', 'TE'])]\n",
        "\n",
        "df_2015 = []\n",
        "for i in range(1, 18):\n",
        "    df = locals()[f'df{i}'] = pd.read_csv(fr\"drive/MyDrive/Fantasy-Football-Coding/Fantasy-Data/OwnersBox/Combined/2015/combined-wk{i}.csv\")\n",
        "    df_2015.append(df)\n",
        "df_2015 = pd.concat(df_2015)\n",
        "df_2015 = df_2015.loc[df_2015.Position.isin(['QB', 'RB', 'WR', 'TE'])]\n",
        "\n",
        "df_2016 = []\n",
        "for i in range(1, 18):\n",
        "    df = locals()[f'df{i}'] = pd.read_csv(fr\"drive/MyDrive/Fantasy-Football-Coding/Fantasy-Data/OwnersBox/Combined/2016/combined-wk{i}.csv\")\n",
        "    df_2016.append(df)\n",
        "df_2016 = pd.concat(df_2016)\n",
        "df_2016 = df_2016.loc[df_2016.Position.isin(['QB', 'RB', 'WR', 'TE'])]\n",
        "\n",
        "df_2017 = []\n",
        "for i in range(1, 18):\n",
        "    df = locals()[f'df{i}'] = pd.read_csv(fr\"drive/MyDrive/Fantasy-Football-Coding/Fantasy-Data/OwnersBox/Combined/2017/combined-wk{i}.csv\")\n",
        "    df_2017.append(df)\n",
        "df_2017 = pd.concat(df_2017)\n",
        "df_2017 = df_2017.loc[df_2017.Position.isin(['QB', 'RB', 'WR', 'TE'])]\n",
        "\n",
        "df_2018 = []\n",
        "for i in range(1, 18):\n",
        "    df = locals()[f'df{i}'] = pd.read_csv(fr\"drive/MyDrive/Fantasy-Football-Coding/Fantasy-Data/OwnersBox/Combined/2018/combined-wk{i}.csv\")\n",
        "    df_2018.append(df)\n",
        "df_2018 = pd.concat(df_2018)\n",
        "df_2018 = df_2018.loc[df_2018.Position.isin(['QB', 'RB', 'WR', 'TE'])]\n",
        "\n",
        "df_2019 = []\n",
        "for i in range(1, 18):\n",
        "    df = locals()[f'df{i}'] = pd.read_csv(fr\"drive/MyDrive/Fantasy-Football-Coding/Fantasy-Data/OwnersBox/Combined/2019/combined-wk{i}.csv\")\n",
        "    df_2019.append(df)\n",
        "df_2019 = pd.concat(df_2019)\n",
        "df_2019 = df_2019.loc[df_2019.Position.isin(['QB', 'RB', 'WR', 'TE'])]\n",
        "\n",
        "df_2020 = []\n",
        "for i in range(1, 18):\n",
        "    df = locals()[f'df{i}'] = pd.read_csv(fr\"drive/MyDrive/Fantasy-Football-Coding/Fantasy-Data/OwnersBox/Combined/2020/combined-wk{i}.csv\")\n",
        "    df_2020.append(df)\n",
        "df_2020 = pd.concat(df_2020)\n",
        "df_2020 = df_2020.loc[df_2020.Position.isin(['QB', 'RB', 'WR', 'TE'])]\n",
        "\n",
        "df_2021 = []\n",
        "for i in range(1, 19):\n",
        "    df = locals()[f'df{i}'] = pd.read_csv(fr\"drive/MyDrive/Fantasy-Football-Coding/Fantasy-Data/OwnersBox/Combined/2021/combined-wk{i}.csv\")\n",
        "    df_2021.append(df)\n",
        "df_2021 = pd.concat(df_2021)\n",
        "df_2021 = df_2021.loc[df_2021.Position.isin(['QB', 'RB', 'WR', 'TE'])]\n",
        "\n",
        "df_2022 = []\n",
        "for i in range(1, 19):\n",
        "    df = locals()[f'df{i}'] = pd.read_csv(fr\"drive/MyDrive/Fantasy-Football-Coding/Fantasy-Data/OwnersBox/Combined/2022/combined-wk{i}.csv\")\n",
        "    df_2022.append(df)\n",
        "df_2022 = pd.concat(df_2022)\n",
        "df_2022 = df_2022.loc[df_2022.Position.isin(['QB', 'RB', 'WR', 'TE'])]\n",
        "\n",
        "df_2023 = []\n",
        "for i in range(1, week):\n",
        "    df = locals()[f'df{i}'] = pd.read_csv(fr\"drive/MyDrive/Fantasy-Football-Coding/Fantasy-Data/OwnersBox/Combined/2023/combined-wk{i}.csv\")\n",
        "    df_2023.append(df)\n",
        "df_2023 = pd.concat(df_2023)\n",
        "df_2023 = df_2023.loc[df_2023.Position.isin(['QB', 'RB', 'WR', 'TE'])]"
      ]
    },
    {
      "cell_type": "code",
      "execution_count": null,
      "metadata": {
        "id": "C6n_olAdtBGK",
        "colab": {
          "base_uri": "https://localhost:8080/"
        },
        "outputId": "d435f380-29b5-4b86-e8e6-80fd2885da04"
      },
      "outputs": [
        {
          "output_type": "execute_result",
          "data": {
            "text/plain": [
              "(58846, 40)"
            ]
          },
          "metadata": {},
          "execution_count": 73
        }
      ],
      "source": [
        "# Combining all the yearly data frames into one\n",
        "df = pd.concat([df_2013, df_2014, df_2015, df_2016, df_2017, df_2018, df_2019, df_2020, df_2021, df_2022, df_2023])\n",
        "df.shape"
      ]
    },
    {
      "cell_type": "code",
      "execution_count": null,
      "metadata": {
        "id": "yNzycIVetA_E"
      },
      "outputs": [],
      "source": [
        "# Fill NaN values with 0.0\n",
        "df = df.fillna(0.0)\n",
        "# Resetting the index\n",
        "df = df.reset_index(drop=True)\n",
        "# This keeps all the data where the Projected Points are greather than or equal to 2\n",
        "df = df[df['NewProjectedPoints'] >= 2]\n",
        "# Getting the Home and Away data from Categorical to Numbers\n",
        "dummies = pd.get_dummies(df.HomeAway)\n",
        "# Concattenate the dummie dataframe and the main one\n",
        "df = pd.concat([df, dummies], axis='columns')"
      ]
    },
    {
      "cell_type": "markdown",
      "metadata": {
        "id": "93ghIL3tu4Aq"
      },
      "source": [
        "Now the data will be split for training and testing"
      ]
    },
    {
      "cell_type": "code",
      "execution_count": null,
      "metadata": {
        "id": "Bo5CsWaWeU_C"
      },
      "outputs": [],
      "source": [
        "# X_train is 80% of the data used for training, includes all features selected\n",
        "# # X_test is 20% of the data used for testing, includes all features selected\n",
        "# # y_train is 80% of the data used for training, includes the label for each row in X_train\n",
        "# # y_test is 20% of the data used for testing, includes the label for each row in y_train\n",
        "# X_train.shape, X_test.shape, y_train.shape, y_test.shape"
      ]
    },
    {
      "cell_type": "code",
      "execution_count": null,
      "metadata": {
        "id": "wDaUdNcFtXDj"
      },
      "outputs": [],
      "source": [
        "# Splitting the data into features and the label\n",
        "X = df[['NewProjectedPoints', 'Home', 'OverUnder', 'Trend']].values\n",
        "y = df[['NewActualPoints']].values"
      ]
    },
    {
      "cell_type": "code",
      "execution_count": null,
      "metadata": {
        "id": "c84LlOSwTU78"
      },
      "outputs": [],
      "source": [
        "# Define hyperparamters\n",
        "random_seeds = []\n",
        "for rs in range(1, 2):\n",
        "  random_seeds.append(rs)"
      ]
    },
    {
      "cell_type": "code",
      "execution_count": null,
      "metadata": {
        "id": "_grz_S0CTiW6"
      },
      "outputs": [],
      "source": [
        "# Lists to store performance metrics\n",
        "val_loss_scores = []\n",
        "best_model_paths = []\n",
        "mse_loss_scores = []"
      ]
    },
    {
      "cell_type": "code",
      "execution_count": null,
      "metadata": {
        "colab": {
          "base_uri": "https://localhost:8080/",
          "height": 1000
        },
        "id": "K7JxDZllu_zA",
        "outputId": "8fa2d6a2-f557-45d1-db92-fce62d03849c"
      },
      "outputs": [
        {
          "output_type": "stream",
          "name": "stdout",
          "text": [
            "Epoch 1/20\n",
            "846/858 [============================>.] - ETA: 0s - loss: 102.8024\n",
            "Epoch 1: val_loss improved from inf to 46.72969, saving model to best_model.h5\n",
            "858/858 [==============================] - 7s 7ms/step - loss: 102.0610 - val_loss: 46.7297\n",
            "Epoch 2/20\n",
            " 63/858 [=>............................] - ETA: 1s - loss: 49.2074"
          ]
        },
        {
          "output_type": "stream",
          "name": "stderr",
          "text": [
            "/usr/local/lib/python3.10/dist-packages/keras/src/engine/training.py:3000: UserWarning: You are saving your model as an HDF5 file via `model.save()`. This file format is considered legacy. We recommend using instead the native Keras format, e.g. `model.save('my_model.keras')`.\n",
            "  saving_api.save_model(\n"
          ]
        },
        {
          "output_type": "stream",
          "name": "stdout",
          "text": [
            "858/858 [==============================] - ETA: 0s - loss: 45.8241\n",
            "Epoch 2: val_loss improved from 46.72969 to 43.37346, saving model to best_model.h5\n",
            "858/858 [==============================] - 4s 4ms/step - loss: 45.8241 - val_loss: 43.3735\n",
            "Epoch 3/20\n",
            "854/858 [============================>.] - ETA: 0s - loss: 44.6033\n",
            "Epoch 3: val_loss improved from 43.37346 to 43.05076, saving model to best_model.h5\n",
            "858/858 [==============================] - 5s 6ms/step - loss: 44.6177 - val_loss: 43.0508\n",
            "Epoch 4/20\n",
            "857/858 [============================>.] - ETA: 0s - loss: 44.3813\n",
            "Epoch 4: val_loss improved from 43.05076 to 42.88874, saving model to best_model.h5\n",
            "858/858 [==============================] - 8s 9ms/step - loss: 44.3903 - val_loss: 42.8887\n",
            "Epoch 5/20\n",
            "855/858 [============================>.] - ETA: 0s - loss: 44.2521\n",
            "Epoch 5: val_loss improved from 42.88874 to 42.77342, saving model to best_model.h5\n",
            "858/858 [==============================] - 5s 6ms/step - loss: 44.2699 - val_loss: 42.7734\n",
            "Epoch 6/20\n",
            "856/858 [============================>.] - ETA: 0s - loss: 44.2348\n",
            "Epoch 6: val_loss did not improve from 42.77342\n",
            "858/858 [==============================] - 6s 7ms/step - loss: 44.2131 - val_loss: 42.7882\n",
            "Epoch 7/20\n",
            "844/858 [============================>.] - ETA: 0s - loss: 44.2066\n",
            "Epoch 7: val_loss improved from 42.77342 to 42.73198, saving model to best_model.h5\n",
            "858/858 [==============================] - 5s 6ms/step - loss: 44.1524 - val_loss: 42.7320\n",
            "Epoch 8/20\n",
            "856/858 [============================>.] - ETA: 0s - loss: 44.1593\n",
            "Epoch 8: val_loss did not improve from 42.73198\n",
            "858/858 [==============================] - 3s 4ms/step - loss: 44.1333 - val_loss: 42.7447\n",
            "Epoch 9/20\n",
            "855/858 [============================>.] - ETA: 0s - loss: 44.1508\n",
            "Epoch 9: val_loss improved from 42.73198 to 42.69335, saving model to best_model.h5\n",
            "858/858 [==============================] - 2s 3ms/step - loss: 44.1493 - val_loss: 42.6934\n",
            "Epoch 10/20\n",
            "856/858 [============================>.] - ETA: 0s - loss: 44.1623\n",
            "Epoch 10: val_loss improved from 42.69335 to 42.66766, saving model to best_model.h5\n",
            "858/858 [==============================] - 2s 3ms/step - loss: 44.1353 - val_loss: 42.6677\n",
            "Epoch 11/20\n",
            "850/858 [============================>.] - ETA: 0s - loss: 44.0534\n",
            "Epoch 11: val_loss did not improve from 42.66766\n",
            "858/858 [==============================] - 3s 4ms/step - loss: 44.1209 - val_loss: 42.7417\n",
            "Epoch 12/20\n",
            "856/858 [============================>.] - ETA: 0s - loss: 44.1141\n",
            "Epoch 12: val_loss did not improve from 42.66766\n",
            "858/858 [==============================] - 3s 4ms/step - loss: 44.1132 - val_loss: 42.6869\n",
            "Epoch 13/20\n",
            "837/858 [============================>.] - ETA: 0s - loss: 44.0204\n",
            "Epoch 13: val_loss improved from 42.66766 to 42.63795, saving model to best_model.h5\n",
            "858/858 [==============================] - 3s 3ms/step - loss: 44.1029 - val_loss: 42.6380\n",
            "Epoch 14/20\n",
            "847/858 [============================>.] - ETA: 0s - loss: 44.2012\n",
            "Epoch 14: val_loss did not improve from 42.63795\n",
            "858/858 [==============================] - 2s 3ms/step - loss: 44.1253 - val_loss: 42.6803\n",
            "Epoch 15/20\n",
            "832/858 [============================>.] - ETA: 0s - loss: 44.1553\n",
            "Epoch 15: val_loss did not improve from 42.63795\n",
            "858/858 [==============================] - 2s 3ms/step - loss: 44.1115 - val_loss: 42.6447\n",
            "Epoch 16/20\n",
            "857/858 [============================>.] - ETA: 0s - loss: 44.1054\n",
            "Epoch 16: val_loss did not improve from 42.63795\n",
            "858/858 [==============================] - 2s 2ms/step - loss: 44.0977 - val_loss: 42.7396\n",
            "Epoch 17/20\n",
            "840/858 [============================>.] - ETA: 0s - loss: 44.0840\n",
            "Epoch 17: val_loss did not improve from 42.63795\n",
            "858/858 [==============================] - 2s 2ms/step - loss: 44.0959 - val_loss: 42.6473\n",
            "Epoch 18/20\n",
            "853/858 [============================>.] - ETA: 0s - loss: 44.1153\n",
            "Epoch 18: val_loss did not improve from 42.63795\n",
            "858/858 [==============================] - 3s 3ms/step - loss: 44.1047 - val_loss: 42.6535\n",
            "Epoch 19/20\n",
            "835/858 [============================>.] - ETA: 0s - loss: 43.9376\n",
            "Epoch 19: val_loss did not improve from 42.63795\n",
            "858/858 [==============================] - 3s 4ms/step - loss: 44.0931 - val_loss: 42.6410\n",
            "Epoch 20/20\n",
            "854/858 [============================>.] - ETA: 0s - loss: 44.1276\n",
            "Epoch 20: val_loss did not improve from 42.63795\n",
            "858/858 [==============================] - 2s 2ms/step - loss: 44.0824 - val_loss: 42.6586\n",
            "286/286 [==============================] - 1s 2ms/step - loss: 44.3529\n",
            "\n",
            "Iteration: 1\n",
            "Mean Squared Error from neural network:  44.352935791015625\n",
            "Best Validation Loss from neural network:  42.6379508972168\n",
            "\n"
          ]
        },
        {
          "output_type": "display_data",
          "data": {
            "text/plain": [
              "<Figure size 640x480 with 1 Axes>"
            ],
            "image/png": "[encoded data removed]"
          },
          "metadata": {}
        },
        {
          "output_type": "stream",
          "name": "stdout",
          "text": [
            "\n",
            "\n",
            "\n",
            "Average Validation Loss: 42.6379508972168\n",
            "Variance Validation Loss: 0.0\n"
          ]
        }
      ],
      "source": [
        "# Split the data into training and testing\n",
        "for seed in random_seeds:\n",
        "  X_train, X_test, y_train, y_test = train_test_split(X, y, test_size=0.2, random_state=seed, shuffle=True)\n",
        "\n",
        "  # Scale both the train and test, otherwise the model will fail\n",
        "  # Standardize features by removing the mean and scaling to unit variance\n",
        "  scaler = StandardScaler()\n",
        "  scaler.fit(X_train)\n",
        "\n",
        "  # The new variables are being scaled based on the standardizing features that happened in X_train\n",
        "  X_train_scaled = scaler.transform(X_train)\n",
        "  X_test_scaled = scaler.transform(X_test)\n",
        "\n",
        "  # Define the model\n",
        "  model = Sequential()\n",
        "  # First hidden layer number of neurons and number of inputs, with the type of activation\n",
        "  model.add(Dense(6, input_shape=(4,), activation='relu'))\n",
        "  # Second Hidden Layer\n",
        "  model.add(Dense(6, activation='relu'))\n",
        "  # Output layer\n",
        "  model.add(Dense(1, activation='linear'))\n",
        "\n",
        "\n",
        "  # Compile the model (which defines the loss function, the optimizer, and the metrics)\n",
        "  model.compile(tf.keras.optimizers.Adam(learning_rate=0.001), loss='mean_squared_error')\n",
        "  model.summary\n",
        "\n",
        "  # Save the best model\n",
        "  checkpoint = ModelCheckpoint('best_model.h5', monitor='val_loss', save_best_only=True, mode='min', verbose=1)\n",
        "\n",
        "  # Fitting the model\n",
        "  history = model.fit(X_train_scaled, y_train, validation_split=0.25, epochs=20, callbacks=[checkpoint])\n",
        "\n",
        "  # Saving the best model validation losses\n",
        "  best_val_loss = min(history.history['val_loss'])\n",
        "  val_loss_scores.append(best_val_loss)\n",
        "  best_model = load_model('best_model.h5')\n",
        "  best_model_paths.append(best_model)\n",
        "\n",
        "\n",
        "  # Using the best model on the Test data now\n",
        "  mse_neural = best_model.evaluate(X_test_scaled, y_test)\n",
        "  print('')\n",
        "  print(\"Iteration:\", seed )\n",
        "  print(\"Mean Squared Error from neural network: \", mse_neural)\n",
        "  print(\"Best Validation Loss from neural network: \", best_val_loss)\n",
        "  print('')\n",
        "  mse_loss_scores.append(mse_neural)\n",
        "\n",
        "  # Plot the training and validation loss at each epoch\n",
        "  loss = history.history['loss']\n",
        "  val_loss = history.history['val_loss']\n",
        "  epochs = range(1, len(loss) + 1)\n",
        "  # Does a line\n",
        "  plt.plot(epochs, loss, 'y', label='Training loss')\n",
        "  # Does a dot\n",
        "  #plt.plot(epochs, loss, 'bo', label='Training loss')\n",
        "  plt.plot(epochs, val_loss, 'r', label='Validation loss')\n",
        "  plt.title(\"Training and Validation loss\")\n",
        "  plt.xlabel('Epochs')\n",
        "  plt.ylabel('Loss')\n",
        "  plt.legend()\n",
        "  plt.show()\n",
        "  print('')\n",
        "\n",
        "\n",
        "\n",
        "# Calculate average and variance of accuracy scores\n",
        "average_val_loss = np.mean(val_loss_scores)\n",
        "variance_val_loss = np.var(val_loss_scores)\n",
        "\n",
        "print('')\n",
        "print('')\n",
        "print(f\"Average Validation Loss: {average_val_loss}\")\n",
        "print(f\"Variance Validation Loss: {variance_val_loss}\")"
      ]
    },
    {
      "cell_type": "markdown",
      "metadata": {
        "id": "WXezvRjoxWbC"
      },
      "source": [
        "Defining the Model"
      ]
    },
    {
      "cell_type": "code",
      "execution_count": null,
      "metadata": {
        "id": "p3hDpYx1s3wu",
        "colab": {
          "base_uri": "https://localhost:8080/"
        },
        "outputId": "8d891c55-275b-449f-a478-c8b316a79e61"
      },
      "outputs": [
        {
          "output_type": "stream",
          "name": "stdout",
          "text": [
            "42.6379508972168\n",
            "0\n"
          ]
        }
      ],
      "source": [
        "# Getting the model that had the best validation loss\n",
        "min_val_loss_score = min(val_loss_scores)\n",
        "index_of_minimum = val_loss_scores.index(min_val_loss_score)\n",
        "print(min_val_loss_score)\n",
        "print(index_of_minimum)"
      ]
    },
    {
      "cell_type": "code",
      "execution_count": null,
      "metadata": {
        "id": "kWnYexX_nltg",
        "colab": {
          "base_uri": "https://localhost:8080/"
        },
        "outputId": "94b9d919-e3dd-4da1-ea02-8235d49ad1b4"
      },
      "outputs": [
        {
          "output_type": "stream",
          "name": "stdout",
          "text": [
            "44.352935791015625\n"
          ]
        }
      ],
      "source": [
        "median_mse_loss_score = median(mse_loss_scores)\n",
        "print(median_mse_loss_score)"
      ]
    },
    {
      "cell_type": "code",
      "execution_count": null,
      "metadata": {
        "id": "hYF03L_24gUv",
        "colab": {
          "base_uri": "https://localhost:8080/"
        },
        "outputId": "6a41e34a-f1df-4b66-cac9-176e7010e79e"
      },
      "outputs": [
        {
          "output_type": "stream",
          "name": "stdout",
          "text": [
            "42.6379508972168\n",
            "0\n"
          ]
        }
      ],
      "source": [
        "median_val_loss_score = median(val_loss_scores)\n",
        "print(median_val_loss_score)\n",
        "\n",
        "# Getting the model that is closest to the median of all results for validation loss\n",
        "diff_medians = []\n",
        "\n",
        "for i in val_loss_scores:\n",
        "  diff = abs(i - median_val_loss_score)\n",
        "  diff_medians.append(diff)\n",
        "\n",
        "index_of_median = diff_medians.index(min(diff_medians))\n",
        "print(index_of_median)"
      ]
    },
    {
      "cell_type": "code",
      "execution_count": null,
      "metadata": {
        "id": "cl19Tcomt1mW",
        "colab": {
          "base_uri": "https://localhost:8080/"
        },
        "outputId": "d83c6b68-2be3-4e0b-e2e4-9a18ae3de817"
      },
      "outputs": [
        {
          "output_type": "execute_result",
          "data": {
            "text/plain": [
              "<keras.src.engine.sequential.Sequential at 0x7b45f0e86830>"
            ]
          },
          "metadata": {},
          "execution_count": 83
        }
      ],
      "source": [
        "# Setting the model to use with the one that had the lowest validation loss\n",
        "best_model = best_model_paths[index_of_minimum]\n",
        "best_model"
      ]
    },
    {
      "cell_type": "code",
      "execution_count": null,
      "metadata": {
        "id": "xTwRqLPo53Cv",
        "colab": {
          "base_uri": "https://localhost:8080/"
        },
        "outputId": "ad4c4cc7-59b0-4070-e8cf-7d4468cc8e48"
      },
      "outputs": [
        {
          "output_type": "execute_result",
          "data": {
            "text/plain": [
              "<keras.src.engine.sequential.Sequential at 0x7b45f0e86830>"
            ]
          },
          "metadata": {},
          "execution_count": 84
        }
      ],
      "source": [
        "middle_model = best_model_paths[index_of_median]\n",
        "middle_model"
      ]
    },
    {
      "cell_type": "code",
      "execution_count": null,
      "metadata": {
        "id": "A-43ZD9yHfxq",
        "colab": {
          "base_uri": "https://localhost:8080/"
        },
        "outputId": "b1fb5aea-3416-4c1d-9fac-7996fdfe90b1"
      },
      "outputs": [
        {
          "output_type": "stream",
          "name": "stdout",
          "text": [
            "Scaled Data\n",
            "[ 1.03302349  1.0011482   1.317174   -0.51595276]\n",
            "\n",
            "X_Values\n",
            "[15.579       1.         53.5         0.75657402]\n",
            "1144/1144 [==============================] - 2s 1ms/step\n",
            "\n",
            "Prediction\n",
            "[15.268963]\n",
            "\n",
            "Actual Label\n",
            "[24.2]\n"
          ]
        }
      ],
      "source": [
        "# Testing the model with predictions\n",
        "print('Scaled Data')\n",
        "print(X_train_scaled[5])\n",
        "print('')\n",
        "print('X_Values')\n",
        "print(X_train[5])\n",
        "y_new = middle_model.predict(X_train_scaled)\n",
        "print('')\n",
        "print('Prediction')\n",
        "print(y_new[5])\n",
        "print('')\n",
        "print('Actual Label')\n",
        "print(y_train[5])"
      ]
    },
    {
      "cell_type": "markdown",
      "metadata": {
        "id": "7mxoQ60LB_dV"
      },
      "source": [
        "In order to get a prediction, you need to have the model predict on a scaled version of the X feature(s), since the model was created on scaled data"
      ]
    },
    {
      "cell_type": "markdown",
      "metadata": {
        "id": "SxfaI0hzCGWc"
      },
      "source": [
        "Now that there is a model, I want it to be tested on data from a csv"
      ]
    },
    {
      "cell_type": "code",
      "execution_count": null,
      "metadata": {
        "id": "7qaN7m8F7N9d"
      },
      "outputs": [],
      "source": [
        "# Bring in the data\n",
        "df_test = pd.read_csv(f\"drive/MyDrive/Fantasy-Football-Coding/Fantasy-Data/OwnersBox/_Current/Current-wk{week}.csv\")"
      ]
    },
    {
      "cell_type": "markdown",
      "metadata": {
        "id": "FfOMUJSlH-0o"
      },
      "source": [
        "The data needs to go through the same transformation as what was trained on the model"
      ]
    },
    {
      "cell_type": "code",
      "execution_count": null,
      "metadata": {
        "id": "gWbw38Gv7N64"
      },
      "outputs": [],
      "source": [
        "# Fill NaN values with 0.0\n",
        "df_test = df_test.fillna(0.0)\n",
        "# This keeps all the data where the Projected Points are greather than or equal to 2\n",
        "df_test = df_test[df_test['NewProjectedPoints'] >= 2]\n",
        "# Getting the Home and Away data from Categorical to Numbers\n",
        "dummies_test = pd.get_dummies(df_test.HomeAway)\n",
        "# Concattenate the dummie dataframe and the main one\n",
        "df_test = pd.concat([df_test, dummies_test], axis='columns')"
      ]
    },
    {
      "cell_type": "code",
      "execution_count": null,
      "metadata": {
        "id": "0CAvBjoP7N4V"
      },
      "outputs": [],
      "source": [
        "# Splitting the data into features\n",
        "X = df_test[['NewProjectedPoints', 'Home', 'OverUnder', 'Trend']].values"
      ]
    },
    {
      "cell_type": "code",
      "execution_count": null,
      "metadata": {
        "id": "wr1ukAm6xY6j"
      },
      "outputs": [],
      "source": [
        "# Standardize the features so it matches the type of numbers that the model was trained on\n",
        "scaler.fit(X)\n",
        "\n",
        "# The new variables are being scaled based on the standardizing features that happened in X_train\n",
        "X_scaled = scaler.transform(X)"
      ]
    },
    {
      "cell_type": "code",
      "execution_count": null,
      "metadata": {
        "id": "8s8QQeRi8k63"
      },
      "outputs": [],
      "source": [
        "# # Testing the model with predictions\n",
        "# print('Scaled Data')\n",
        "# print(X_scaled[5])\n",
        "# print('')\n",
        "# print('X_Values')\n",
        "# print(X[5])\n",
        "# y_points = best_model.predict(X_scaled)\n",
        "# print('')\n",
        "# print('Prediction')\n",
        "# print(y_points[5])"
      ]
    },
    {
      "cell_type": "code",
      "execution_count": null,
      "metadata": {
        "id": "5VGpAKEJL5yj",
        "colab": {
          "base_uri": "https://localhost:8080/"
        },
        "outputId": "d62a1ef8-d853-4abc-d1c0-cca8881edf54"
      },
      "outputs": [
        {
          "output_type": "stream",
          "name": "stdout",
          "text": [
            "Scaled Data\n",
            "[ 2.34607462  1.01212165  0.72369784 -0.46285046]\n",
            "\n",
            "X_Values\n",
            "[21.3         1.         47.5         0.87480438]\n",
            "8/8 [==============================] - 0s 2ms/step\n",
            "\n",
            "Prediction\n",
            "[21.391865]\n"
          ]
        }
      ],
      "source": [
        "# Testing the model with predictions\n",
        "print('Scaled Data')\n",
        "print(X_scaled[5])\n",
        "print('')\n",
        "print('X_Values')\n",
        "print(X[5])\n",
        "y_points = middle_model.predict(X_scaled)\n",
        "print('')\n",
        "print('Prediction')\n",
        "print(y_points[5])"
      ]
    },
    {
      "cell_type": "code",
      "execution_count": null,
      "metadata": {
        "id": "F6MTNNafV15C"
      },
      "outputs": [],
      "source": [
        "# Add the new column into the dataframe\n",
        "df_test = df_test.assign(NNProjectedPoints=y_points)"
      ]
    },
    {
      "cell_type": "code",
      "execution_count": null,
      "metadata": {
        "id": "IvFon7MAV12x"
      },
      "outputs": [],
      "source": [
        "# Changing the NewProjectedPoints column to round to 3 decimal places\n",
        "decimals = 3\n",
        "df_test['NNProjectedPoints'] = df_test['NNProjectedPoints'].apply(lambda x: round(x, decimals))"
      ]
    },
    {
      "cell_type": "code",
      "execution_count": null,
      "metadata": {
        "id": "GcXMUatGV1xt"
      },
      "outputs": [],
      "source": [
        "# Creating a DataFrame with just the listed columns\n",
        "df_test = df_test[['Name', 'Position', 'NNProjectedPoints', 'Salary', 'Team']]\n",
        "# Eliminating rows where the Salary is equal to 0\n",
        "df_test = df_test[df_test['Salary'] != 0]"
      ]
    },
    {
      "cell_type": "code",
      "execution_count": null,
      "metadata": {
        "id": "LGWowp7u1iOu"
      },
      "outputs": [],
      "source": [
        "# This is regrouping the dataframe so the players are grouped by Position\n",
        "availables = df_test.groupby([\"Position\", \"Name\", \"NNProjectedPoints\", \"Salary\", \"Team\"]).agg('count')\n",
        "availables = availables.reset_index()"
      ]
    },
    {
      "cell_type": "code",
      "execution_count": null,
      "metadata": {
        "id": "262ch0a91iJy"
      },
      "outputs": [],
      "source": [
        "# Define empty dictionaries to track the metrics for the lineup optimizer\n",
        "salaries = {}\n",
        "points = {}\n",
        "players = {}\n",
        "lineups_dict = {}\n",
        "teams = {}\n",
        "\n",
        "\n",
        "for position in availables.Position.unique():\n",
        "    available_for_position = availables[availables.Position == position]\n",
        "    players[position] = list(available_for_position.Name.values)\n",
        "\n",
        "\n",
        "    salaries[position] = {\n",
        "        player_roster: salary for player_roster, salary in\n",
        "        zip(players[position], available_for_position.Salary.values)\n",
        "    }\n",
        "\n",
        "    points[position] = {\n",
        "        player_roster: _points for player_roster, _points in\n",
        "        zip(players[position], available_for_position.NNProjectedPoints.values)\n",
        "    }\n",
        "\n",
        "    teams[position] = {\n",
        "    player: team for player, team in\n",
        "    zip(players[position], available_for_position.Team.values)\n",
        "}\n",
        "\n",
        "# This defines another dictionary that has the positions and lineup.\n",
        "positions_available = {\n",
        "    \"QB\": 2,\n",
        "    \"RB\": 2,\n",
        "    \"WR\": 2,\n",
        "    \"TE\": 1,\n",
        "    \"FLEX\": 2\n",
        "    #\"SUPER\": 1\n",
        "}\n",
        "\n",
        "flexible_positions = (\"RB\", \"WR\", \"TE\")\n",
        "\n",
        "#superflexible_positions = (\"QB\", \"RB\", \"WR\", \"TE\")\n",
        "\n",
        "# How much salary the starting amount is for the DFS\n",
        "salary_cap = 50000\n",
        "\n",
        "\n",
        "teams_available = {\n",
        "    \"ARI\": 2,\n",
        "    \"ATL\": 2,\n",
        "    \"BAL\": 2,\n",
        "    \"BUF\": 2,\n",
        "    \"CAR\": 2,\n",
        "    \"CHI\": 2,\n",
        "    \"CIN\": 2,\n",
        "    \"CLE\": 2,\n",
        "    \"DAL\": 2,\n",
        "    \"DEN\": 2,\n",
        "    \"DET\": 2,\n",
        "    \"GB\": 2,\n",
        "    \"HOU\": 2,\n",
        "    \"IND\": 2,\n",
        "    \"JAX\": 2,\n",
        "    \"KC\": 2,\n",
        "    \"LAC\": 2,\n",
        "    \"LAR\": 2,\n",
        "    \"LV\": 2,\n",
        "    \"MIA\": 2,\n",
        "    \"MIN\": 2,\n",
        "    \"NE\": 2,\n",
        "    \"NO\": 2,\n",
        "    \"NYG\": 2,\n",
        "    \"NYJ\": 2,\n",
        "    \"PHI\": 2,\n",
        "    \"PIT\": 2,\n",
        "    \"SEA\": 2,\n",
        "    \"SF\": 2,\n",
        "    \"TB\": 2,\n",
        "    \"TEN\": 2,\n",
        "    \"WAS\": 2\n",
        "}"
      ]
    },
    {
      "cell_type": "code",
      "execution_count": null,
      "metadata": {
        "id": "jtIebcv6HPsW"
      },
      "outputs": [],
      "source": [
        "variables = {position: LpVariable.dict(position, players[position], cat=\"Binary\")\n",
        "               for position in players}"
      ]
    },
    {
      "cell_type": "code",
      "source": [
        "for position, players in variables.items():\n",
        "  for player, player_selected in players.items():\n",
        "    print(player_selected)"
      ],
      "metadata": {
        "colab": {
          "base_uri": "https://localhost:8080/"
        },
        "id": "lNjnMYEh0Pbl",
        "outputId": "d8bf5c79-5927-459e-e34c-e027e826cefa"
      },
      "execution_count": null,
      "outputs": [
        {
          "output_type": "stream",
          "name": "stdout",
          "text": [
            "QB_Anthony_Richardson\n",
            "QB_Bryce_Young\n",
            "QB_CJ_Stroud\n",
            "QB_Daniel_Jones\n",
            "QB_Derek_Carr\n",
            "QB_Desmond_Ridder\n",
            "QB_Jalen_Hurts\n",
            "QB_Jared_Goff\n",
            "QB_Joe_Burrow\n",
            "QB_Josh_Dobbs\n",
            "QB_Kenny_Pickett\n",
            "QB_Kirk_Cousins\n",
            "QB_Lamar_Jackson\n",
            "QB_Mac_Jones\n",
            "QB_Matthew_Stafford\n",
            "QB_Patrick_Mahomes\n",
            "QB_Russell_Wilson\n",
            "QB_Ryan_Tannehill\n",
            "QB_Taysom_Hill\n",
            "QB_Tua_Tagovailoa\n",
            "QB_Zach_Wilson\n",
            "RB_Alexander_Mattison\n",
            "RB_Alvin_Kamara\n",
            "RB_Bijan_Robinson\n",
            "RB_Breece_Hall\n",
            "RB_Cam_Akers\n",
            "RB_Chuba_Hubbard\n",
            "RB_Clyde_Edwards_Helaire\n",
            "RB_D'Andre_Swift\n",
            "RB_Dalvin_Cook\n",
            "RB_Dameon_Pierce\n",
            "RB_David_Montgomery\n",
            "RB_Derrick_Henry\n",
            "RB_Devin_Singletary\n",
            "RB_Devon_Achane\n",
            "RB_Emari_Demercado\n",
            "RB_Ezekiel_Elliott\n",
            "RB_Gus_Edwards\n",
            "RB_Isiah_Pacheco\n",
            "RB_Jahmyr_Gibbs\n",
            "RB_Jaleel_McLaughlin\n",
            "RB_James_Conner\n",
            "RB_Javonte_Williams\n",
            "RB_Jaylen_Warren\n",
            "RB_Jerick_McKinnon\n",
            "RB_Joe_Mixon\n",
            "RB_Jonathan_Taylor\n",
            "RB_Justice_Hill\n",
            "RB_Keaontay_Ingram\n",
            "RB_Kendre_Miller\n",
            "RB_Kenneth_Gainwell\n",
            "RB_Kyren_Williams\n",
            "RB_Matt_Breida\n",
            "RB_Michael_Carter\n",
            "RB_Miles_Sanders\n",
            "RB_Najee_Harris\n",
            "RB_Raheem_Mostert\n",
            "RB_Rhamondre_Stevenson\n",
            "RB_Ronnie_Rivers\n",
            "RB_Samaje_Perine\n",
            "RB_Saquon_Barkley\n",
            "RB_Trayveon_Williams\n",
            "RB_Tyjae_Spears\n",
            "RB_Tyler_Allgeier\n",
            "RB_Zack_Moss\n",
            "TE_Adam_Trautman\n",
            "TE_Brevin_Jordan\n",
            "TE_Brock_Wright\n",
            "TE_CJ_Uzomah\n",
            "TE_Chigoziem_Okonkwo\n",
            "TE_Connor_Heyward\n",
            "TE_Dallas_Goedert\n",
            "TE_Dalton_Schultz\n",
            "TE_Darnell_Washington\n",
            "TE_Darren_Waller\n",
            "TE_Durham_Smythe\n",
            "TE_Foster_Moreau\n",
            "TE_Hayden_Hurst\n",
            "TE_Hunter_Henry\n",
            "TE_Irv_Smith\n",
            "TE_Isaiah_Likely\n",
            "TE_Jimmy_Graham\n",
            "TE_Jonnu_Smith\n",
            "TE_Josh_Oliver\n",
            "TE_Kyle_Pitts\n",
            "TE_Kylen_Granson\n",
            "TE_Mark_Andrews\n",
            "TE_Mike_Gesicki\n",
            "TE_Mo_Alie_Cox\n",
            "TE_Noah_Gray\n",
            "TE_Sam_LaPorta\n",
            "TE_TJ_Hockenson\n",
            "TE_Travis_Kelce\n",
            "TE_Trey_McBride\n",
            "TE_Tyler_Conklin\n",
            "TE_Tyler_Higbee\n",
            "TE_Zach_Ertz\n",
            "WR_AJ_Brown\n",
            "WR_Adam_Thielen\n",
            "WR_Alec_Pierce\n",
            "WR_Allen_Lazard\n",
            "WR_Allen_Robinson\n",
            "WR_Amon_Ra_St._Brown\n",
            "WR_Brandon_Johnson\n",
            "WR_Braxton_Berrios\n",
            "WR_Calvin_Austin\n",
            "WR_Chris_Moore\n",
            "WR_Chris_Olave\n",
            "WR_Cooper_Kupp\n",
            "WR_Courtland_Sutton\n",
            "WR_DJ_Chark\n",
            "WR_Darius_Slayton\n",
            "WR_DeAndre_Hopkins\n",
            "WR_DeVante_Parker\n",
            "WR_DeVonta_Smith\n",
            "WR_Demario_Douglas\n",
            "WR_Devin_Duvernay\n",
            "WR_Drake_London\n",
            "WR_Garrett_Wilson\n",
            "WR_George_Pickens\n",
            "WR_Isaiah_Hodgins\n",
            "WR_Isaiah_McKenzie\n",
            "WR_Ja'Marr_Chase\n",
            "WR_Jalin_Hyatt\n",
            "WR_Jameson_Williams\n",
            "WR_Jaylen_Waddle\n",
            "WR_Jerry_Jeudy\n",
            "WR_John_Metchie\n",
            "WR_Jonathan_Mingo\n",
            "WR_Jordan_Addison\n",
            "WR_Josh_Downs\n",
            "WR_Josh_Reynolds\n",
            "WR_JuJu_Smith_Schuster\n",
            "WR_Justin_Jefferson\n",
            "WR_Justin_Watson\n",
            "WR_KJ_Osborn\n",
            "WR_Kadarius_Toney\n",
            "WR_Kalif_Raymond\n",
            "WR_Kendrick_Bourne\n",
            "WR_Kyle_Philips\n",
            "WR_Laviska_Shenault\n",
            "WR_Lil'Jordan_Humphrey\n",
            "WR_Mack_Hollins\n",
            "WR_Marquez_Valdes_Scantling\n",
            "WR_Marquise_Brown\n",
            "WR_Marvin_Jones\n",
            "WR_Marvin_Mims\n",
            "WR_Michael_Pittman\n",
            "WR_Michael_Thomas\n",
            "WR_Michael_Wilson\n",
            "WR_Nelson_Agholor\n",
            "WR_Nick_Westbrook_Ikhine\n",
            "WR_Nico_Collins\n",
            "WR_Odell_Beckham\n",
            "WR_Olamide_Zaccheaus\n",
            "WR_Parris_Campbell\n",
            "WR_Puka_Nacua\n",
            "WR_Quez_Watkins\n",
            "WR_Randall_Cobb\n",
            "WR_Rashee_Rice\n",
            "WR_Rashid_Shaheed\n",
            "WR_Rashod_Bateman\n",
            "WR_Robert_Woods\n",
            "WR_Rondale_Moore\n",
            "WR_Skyy_Moore\n",
            "WR_Tank_Dell\n",
            "WR_Tee_Higgins\n",
            "WR_Terrace_Marshall\n",
            "WR_Trenton_Irwin\n",
            "WR_Tutu_Atwell\n",
            "WR_Tyler_Boyd\n",
            "WR_Tyreek_Hill\n",
            "WR_Van_Jefferson\n",
            "WR_Wan'Dale_Robinson\n",
            "WR_Zach_Pascal\n",
            "WR_Zay_Flowers\n"
          ]
        }
      ]
    },
    {
      "cell_type": "code",
      "execution_count": null,
      "metadata": {
        "id": "jl54O8CL7LX1"
      },
      "outputs": [],
      "source": [
        "# Putting a range of how many lineups you want created.\n",
        "# Every change below the for loop of the range of lineups means each change is happening to a single lineup, that is being looped for a new one each time.\n",
        "for lineup in range(1, 11):\n",
        "  # Establishes the variables of the Pulp\n",
        "  # a pulp variable tracks whether a player is chosen or not (binary yes/no)\n",
        "  # It's a variable dictionary of keys and values\n",
        "\n",
        "# The \"problem\" is we want to have the maximum salary for each lineup.\n",
        "  prob = LpProblem(\"Fantasy\", LpMaximize)\n",
        "\n",
        "  # Creating an empty list to track rewards (points), costs (salary), and positional contraints (position)\n",
        "  rewards = []\n",
        "  costs = []\n",
        "  number_of_selected_players = []\n",
        "  team_constraints = []\n",
        "\n",
        "\n",
        "  for position, players in variables.items():\n",
        "    for player, player_selected in players.items():\n",
        "      # If this player is selected, he will add salaries and points\n",
        "        costs += salaries[position][player] * player_selected\n",
        "        rewards += points[position][player] * player_selected\n",
        "        number_of_selected_players += player_selected\n",
        "        team_constraints += teams[position][player] * player_selected\n",
        "\n",
        "  for position, players in variables.items():\n",
        "\n",
        "\n",
        "    # Of this position, if it does not support FLEX, at most `positions_available`\n",
        "    # are supported. If it does support FLEX, increment that by\n",
        "    # `flexible_positions_available`\n",
        "    if position not in flexible_positions:\n",
        "        prob += lpSum(players.values()) == positions_available[position]  # Filling in the QB\n",
        "\n",
        "    else:\n",
        "          # We need at least `positions_available` players on this position and at\n",
        "          # most`positions_available + flexible_positions_available` players\n",
        "          prob += lpSum(players.values()) >= positions_available[position]  # Filling in the RB, WR, TE\n",
        "          prob += (lpSum(players.values())\n",
        "                          <= positions_available[position] + positions_available[\"FLEX\"])  # Filling in the FLEX\n",
        "\n",
        "\n",
        "  # This adds the costs (salary) and rewards (points) into the optimization calculation\n",
        "  # This sums up the points and sums up the salary while making sure the lineup salary is less than or equal to the 50,000\n",
        "  # In total, we need exactly `positions_available` players\n",
        "  prob += lpSum(number_of_selected_players) == sum(positions_available.values())\n",
        "  prob += lpSum(rewards)\n",
        "  prob += lpSum(costs) <= salary_cap\n",
        "  #prob += len(np.unique(id_constraints)) == id_unique\n",
        "\n",
        "\n",
        "  num = 0.001\n",
        "  # If it's not the first lineup\n",
        "  if not lineup == 1:\n",
        "    # Make sure the rewards (points) is less than or equal too the total of the previous lineup, minus 0.01\n",
        "    # That is too ensure you don't get the same lineup each time becasue the max points of the lineup caps out\n",
        "    # at just below the previous total projections. This ensures varied lineups, and then solve\n",
        "    prob += (lpSum(rewards) <= total_score - num)\n",
        "  prob.solve()\n",
        "\n",
        "  # Getting the strings for the lineup and the constraints (which is same position) when starting the new lineup.\n",
        "  score = str(prob.objective)\n",
        "  constraints = [str(const) for const in prob.constraints.values()]\n",
        "\n",
        "  # Creating an empty list for storing the lineup\n",
        "  lineupList = []\n",
        "  # This will create a list of every player in the dataset with a variable of 1 or 0, depending the player\n",
        "  # has been chosen for the lineup. This loops through the list to fill in if the player has been chosen or not.\n",
        "  for v in prob.variables():\n",
        "      score = score.replace(v.name, str(v.varValue))\n",
        "      if v.varValue != 0:\n",
        "        lineupList.append(v.name)\n",
        "\n",
        "  # # Finally we just have to save the total_score variable for the lineup.\n",
        "  total_score = eval(score)\n",
        "  lineupList.append(total_score)\n",
        "\n",
        "  # # Storing all of the lineups in a dictionary\n",
        "  lineups_dict.update({lineup: lineupList})"
      ]
    },
    {
      "cell_type": "code",
      "execution_count": null,
      "metadata": {
        "id": "cV6dia3p7LVQ"
      },
      "outputs": [],
      "source": [
        "# Turning the dictionary into a DataFrame\n",
        "df = pd.DataFrame(lineups_dict)"
      ]
    },
    {
      "cell_type": "code",
      "execution_count": null,
      "metadata": {
        "id": "tuPQBdtw7LSi"
      },
      "outputs": [],
      "source": [
        "# Transposing the DataFrame\n",
        "df = df.T"
      ]
    },
    {
      "cell_type": "code",
      "execution_count": null,
      "metadata": {
        "id": "6BRq_bhO7LQL"
      },
      "outputs": [],
      "source": [
        "# Creating a list for what the rename the column names\n",
        "newcols = ['QB', 'SUPER', 'RB1', 'RB2', 'FLEXorTE', 'TEorFLEX', 'FLEX2', 'WR1', 'WR2', 'Total_Score']"
      ]
    },
    {
      "cell_type": "code",
      "execution_count": null,
      "metadata": {
        "id": "C8MUYvAc7LNw"
      },
      "outputs": [],
      "source": [
        "# Adding that column name list into the DataFrame\n",
        "df.columns = newcols"
      ]
    },
    {
      "cell_type": "code",
      "execution_count": null,
      "metadata": {
        "id": "kiamNG9LJRNL"
      },
      "outputs": [],
      "source": [
        "# Creating a list of what values to remove in each particular cell\n",
        "removeKeys = ['QB_', 'RB_', 'TE_', 'WR_']\n",
        "# For each position in each column, when the player has the position and _ in front of it, remove that and replace it with nothing\n",
        "for pos in newcols:\n",
        "  for removeKey in removeKeys:\n",
        "      df[pos] = df[pos].apply(str).str.replace(removeKey,\"\")\n",
        "  df[pos] = df[pos].apply(str).str.replace(\"_\", \" \")"
      ]
    },
    {
      "cell_type": "code",
      "execution_count": null,
      "metadata": {
        "id": "sxkaEiSWTygd",
        "colab": {
          "base_uri": "https://localhost:8080/",
          "height": 537
        },
        "outputId": "5c975ba8-944c-4980-ec7c-1250031aeab4"
      },
      "outputs": [
        {
          "output_type": "execute_result",
          "data": {
            "text/plain": [
              "                    QB             SUPER            RB1            RB2  \\\n",
              "1         Kirk Cousins   Patrick Mahomes  Isiah Pacheco   James Conner   \n",
              "2          Jalen Hurts    Tua Tagovailoa  Isiah Pacheco   James Conner   \n",
              "3      Patrick Mahomes    Tua Tagovailoa  Isiah Pacheco   James Conner   \n",
              "4   Anthony Richardson   Patrick Mahomes  Isiah Pacheco   James Conner   \n",
              "5          Jalen Hurts  Matthew Stafford  Isiah Pacheco   James Conner   \n",
              "6     Matthew Stafford   Patrick Mahomes   Alvin Kamara  Isiah Pacheco   \n",
              "7          Jalen Hurts      Kirk Cousins  D'Andre Swift  Isiah Pacheco   \n",
              "8          Jalen Hurts   Patrick Mahomes  Dameon Pierce   James Conner   \n",
              "9     Matthew Stafford   Patrick Mahomes  D'Andre Swift      Joe Mixon   \n",
              "10         Jalen Hurts  Matthew Stafford  Isiah Pacheco   James Conner   \n",
              "\n",
              "       FLEXorTE          TEorFLEX             FLEX2             WR1  \\\n",
              "1     Zach Ertz  Justin Jefferson    Marquise Brown  Michael Wilson   \n",
              "2     Zach Ertz  Justin Jefferson    Marquise Brown  Michael Wilson   \n",
              "3     Zach Ertz    Marquise Brown    Michael Wilson     Tyreek Hill   \n",
              "4     Zach Ertz  Justin Jefferson    Marquise Brown  Michael Wilson   \n",
              "5   Sam LaPorta         Zach Ertz  Justin Jefferson  Marquise Brown   \n",
              "6     Zach Ertz      Adam Thielen  Justin Jefferson  Michael Wilson   \n",
              "7     Zach Ertz  Justin Jefferson    Marquise Brown  Michael Wilson   \n",
              "8     Zach Ertz    Marquise Brown    Michael Wilson     Tyreek Hill   \n",
              "9     Zach Ertz  Justin Jefferson    Marquise Brown  Michael Wilson   \n",
              "10  Sam LaPorta  Justin Jefferson    Marquise Brown  Michael Wilson   \n",
              "\n",
              "                  WR2         Total_Score  \n",
              "1   Wan'Dale Robinson  137.15300000000002  \n",
              "2   Wan'Dale Robinson             136.916  \n",
              "3   Wan'Dale Robinson             136.899  \n",
              "4   Wan'Dale Robinson  136.85899999999998  \n",
              "5   Wan'Dale Robinson  136.79700000000003  \n",
              "6   Wan'Dale Robinson             136.744  \n",
              "7   Wan'Dale Robinson  136.74200000000002  \n",
              "8   Wan'Dale Robinson              136.71  \n",
              "9   Wan'Dale Robinson  136.67700000000002  \n",
              "10  Wan'Dale Robinson             136.675  "
            ],
            "text/html": [
              "\n",
              "  <div id=\"df-eb1763c1-4731-4906-b025-04bb20adcf34\" class=\"colab-df-container\">\n",
              "    <div>\n",
              "<style scoped>\n",
              "    .dataframe tbody tr th:only-of-type {\n",
              "        vertical-align: middle;\n",
              "    }\n",
              "\n",
              "    .dataframe tbody tr th {\n",
              "        vertical-align: top;\n",
              "    }\n",
              "\n",
              "    .dataframe thead th {\n",
              "        text-align: right;\n",
              "    }\n",
              "</style>\n",
              "<table border=\"1\" class=\"dataframe\">\n",
              "  <thead>\n",
              "    <tr style=\"text-align: right;\">\n",
              "      <th></th>\n",
              "      <th>QB</th>\n",
              "      <th>SUPER</th>\n",
              "      <th>RB1</th>\n",
              "      <th>RB2</th>\n",
              "      <th>FLEXorTE</th>\n",
              "      <th>TEorFLEX</th>\n",
              "      <th>FLEX2</th>\n",
              "      <th>WR1</th>\n",
              "      <th>WR2</th>\n",
              "      <th>Total_Score</th>\n",
              "    </tr>\n",
              "  </thead>\n",
              "  <tbody>\n",
              "    <tr>\n",
              "      <th>1</th>\n",
              "      <td>Kirk Cousins</td>\n",
              "      <td>Patrick Mahomes</td>\n",
              "      <td>Isiah Pacheco</td>\n",
              "      <td>James Conner</td>\n",
              "      <td>Zach Ertz</td>\n",
              "      <td>Justin Jefferson</td>\n",
              "      <td>Marquise Brown</td>\n",
              "      <td>Michael Wilson</td>\n",
              "      <td>Wan'Dale Robinson</td>\n",
              "      <td>137.15300000000002</td>\n",
              "    </tr>\n",
              "    <tr>\n",
              "      <th>2</th>\n",
              "      <td>Jalen Hurts</td>\n",
              "      <td>Tua Tagovailoa</td>\n",
              "      <td>Isiah Pacheco</td>\n",
              "      <td>James Conner</td>\n",
              "      <td>Zach Ertz</td>\n",
              "      <td>Justin Jefferson</td>\n",
              "      <td>Marquise Brown</td>\n",
              "      <td>Michael Wilson</td>\n",
              "      <td>Wan'Dale Robinson</td>\n",
              "      <td>136.916</td>\n",
              "    </tr>\n",
              "    <tr>\n",
              "      <th>3</th>\n",
              "      <td>Patrick Mahomes</td>\n",
              "      <td>Tua Tagovailoa</td>\n",
              "      <td>Isiah Pacheco</td>\n",
              "      <td>James Conner</td>\n",
              "      <td>Zach Ertz</td>\n",
              "      <td>Marquise Brown</td>\n",
              "      <td>Michael Wilson</td>\n",
              "      <td>Tyreek Hill</td>\n",
              "      <td>Wan'Dale Robinson</td>\n",
              "      <td>136.899</td>\n",
              "    </tr>\n",
              "    <tr>\n",
              "      <th>4</th>\n",
              "      <td>Anthony Richardson</td>\n",
              "      <td>Patrick Mahomes</td>\n",
              "      <td>Isiah Pacheco</td>\n",
              "      <td>James Conner</td>\n",
              "      <td>Zach Ertz</td>\n",
              "      <td>Justin Jefferson</td>\n",
              "      <td>Marquise Brown</td>\n",
              "      <td>Michael Wilson</td>\n",
              "      <td>Wan'Dale Robinson</td>\n",
              "      <td>136.85899999999998</td>\n",
              "    </tr>\n",
              "    <tr>\n",
              "      <th>5</th>\n",
              "      <td>Jalen Hurts</td>\n",
              "      <td>Matthew Stafford</td>\n",
              "      <td>Isiah Pacheco</td>\n",
              "      <td>James Conner</td>\n",
              "      <td>Sam LaPorta</td>\n",
              "      <td>Zach Ertz</td>\n",
              "      <td>Justin Jefferson</td>\n",
              "      <td>Marquise Brown</td>\n",
              "      <td>Wan'Dale Robinson</td>\n",
              "      <td>136.79700000000003</td>\n",
              "    </tr>\n",
              "    <tr>\n",
              "      <th>6</th>\n",
              "      <td>Matthew Stafford</td>\n",
              "      <td>Patrick Mahomes</td>\n",
              "      <td>Alvin Kamara</td>\n",
              "      <td>Isiah Pacheco</td>\n",
              "      <td>Zach Ertz</td>\n",
              "      <td>Adam Thielen</td>\n",
              "      <td>Justin Jefferson</td>\n",
              "      <td>Michael Wilson</td>\n",
              "      <td>Wan'Dale Robinson</td>\n",
              "      <td>136.744</td>\n",
              "    </tr>\n",
              "    <tr>\n",
              "      <th>7</th>\n",
              "      <td>Jalen Hurts</td>\n",
              "      <td>Kirk Cousins</td>\n",
              "      <td>D'Andre Swift</td>\n",
              "      <td>Isiah Pacheco</td>\n",
              "      <td>Zach Ertz</td>\n",
              "      <td>Justin Jefferson</td>\n",
              "      <td>Marquise Brown</td>\n",
              "      <td>Michael Wilson</td>\n",
              "      <td>Wan'Dale Robinson</td>\n",
              "      <td>136.74200000000002</td>\n",
              "    </tr>\n",
              "    <tr>\n",
              "      <th>8</th>\n",
              "      <td>Jalen Hurts</td>\n",
              "      <td>Patrick Mahomes</td>\n",
              "      <td>Dameon Pierce</td>\n",
              "      <td>James Conner</td>\n",
              "      <td>Zach Ertz</td>\n",
              "      <td>Marquise Brown</td>\n",
              "      <td>Michael Wilson</td>\n",
              "      <td>Tyreek Hill</td>\n",
              "      <td>Wan'Dale Robinson</td>\n",
              "      <td>136.71</td>\n",
              "    </tr>\n",
              "    <tr>\n",
              "      <th>9</th>\n",
              "      <td>Matthew Stafford</td>\n",
              "      <td>Patrick Mahomes</td>\n",
              "      <td>D'Andre Swift</td>\n",
              "      <td>Joe Mixon</td>\n",
              "      <td>Zach Ertz</td>\n",
              "      <td>Justin Jefferson</td>\n",
              "      <td>Marquise Brown</td>\n",
              "      <td>Michael Wilson</td>\n",
              "      <td>Wan'Dale Robinson</td>\n",
              "      <td>136.67700000000002</td>\n",
              "    </tr>\n",
              "    <tr>\n",
              "      <th>10</th>\n",
              "      <td>Jalen Hurts</td>\n",
              "      <td>Matthew Stafford</td>\n",
              "      <td>Isiah Pacheco</td>\n",
              "      <td>James Conner</td>\n",
              "      <td>Sam LaPorta</td>\n",
              "      <td>Justin Jefferson</td>\n",
              "      <td>Marquise Brown</td>\n",
              "      <td>Michael Wilson</td>\n",
              "      <td>Wan'Dale Robinson</td>\n",
              "      <td>136.675</td>\n",
              "    </tr>\n",
              "  </tbody>\n",
              "</table>\n",
              "</div>\n",
              "    <div class=\"colab-df-buttons\">\n",
              "\n",
              "  <div class=\"colab-df-container\">\n",
              "    <button class=\"colab-df-convert\" onclick=\"convertToInteractive('df-eb1763c1-4731-4906-b025-04bb20adcf34')\"\n",
              "            title=\"Convert this dataframe to an interactive table.\"\n",
              "            style=\"display:none;\">\n",
              "\n",
              "  <svg xmlns=\"http://www.w3.org/2000/svg\" height=\"24px\" viewBox=\"0 -960 960 960\">\n",
              "    <path d=\"M120-120v-720h720v720H120Zm60-500h600v-160H180v160Zm220 220h160v-160H400v160Zm0 220h160v-160H400v160ZM180-400h160v-160H180v160Zm440 0h160v-160H620v160ZM180-180h160v-160H180v160Zm440 0h160v-160H620v160Z\"/>\n",
              "  </svg>\n",
              "    </button>\n",
              "\n",
              "  <style>\n",
              "    .colab-df-container {\n",
              "      display:flex;\n",
              "      gap: 12px;\n",
              "    }\n",
              "\n",
              "    .colab-df-convert {\n",
              "      background-color: #E8F0FE;\n",
              "      border: none;\n",
              "      border-radius: 50%;\n",
              "      cursor: pointer;\n",
              "      display: none;\n",
              "      fill: #1967D2;\n",
              "      height: 32px;\n",
              "      padding: 0 0 0 0;\n",
              "      width: 32px;\n",
              "    }\n",
              "\n",
              "    .colab-df-convert:hover {\n",
              "      background-color: #E2EBFA;\n",
              "      box-shadow: 0px 1px 2px rgba(60, 64, 67, 0.3), 0px 1px 3px 1px rgba(60, 64, 67, 0.15);\n",
              "      fill: #174EA6;\n",
              "    }\n",
              "\n",
              "    .colab-df-buttons div {\n",
              "      margin-bottom: 4px;\n",
              "    }\n",
              "\n",
              "    [theme=dark] .colab-df-convert {\n",
              "      background-color: #3B4455;\n",
              "      fill: #D2E3FC;\n",
              "    }\n",
              "\n",
              "    [theme=dark] .colab-df-convert:hover {\n",
              "      background-color: #434B5C;\n",
              "      box-shadow: 0px 1px 3px 1px rgba(0, 0, 0, 0.15);\n",
              "      filter: drop-shadow(0px 1px 2px rgba(0, 0, 0, 0.3));\n",
              "      fill: #FFFFFF;\n",
              "    }\n",
              "  </style>\n",
              "\n",
              "    <script>\n",
              "      const buttonEl =\n",
              "        document.querySelector('#df-eb1763c1-4731-4906-b025-04bb20adcf34 button.colab-df-convert');\n",
              "      buttonEl.style.display =\n",
              "        google.colab.kernel.accessAllowed ? 'block' : 'none';\n",
              "\n",
              "      async function convertToInteractive(key) {\n",
              "        const element = document.querySelector('#df-eb1763c1-4731-4906-b025-04bb20adcf34');\n",
              "        const dataTable =\n",
              "          await google.colab.kernel.invokeFunction('convertToInteractive',\n",
              "                                                    [key], {});\n",
              "        if (!dataTable) return;\n",
              "\n",
              "        const docLinkHtml = 'Like what you see? Visit the ' +\n",
              "          '<a target=\"_blank\" href=https://colab.research.google.com/notebooks/data_table.ipynb>data table notebook</a>'\n",
              "          + ' to learn more about interactive tables.';\n",
              "        element.innerHTML = '';\n",
              "        dataTable['output_type'] = 'display_data';\n",
              "        await google.colab.output.renderOutput(dataTable, element);\n",
              "        const docLink = document.createElement('div');\n",
              "        docLink.innerHTML = docLinkHtml;\n",
              "        element.appendChild(docLink);\n",
              "      }\n",
              "    </script>\n",
              "  </div>\n",
              "\n",
              "\n",
              "<div id=\"df-79f227a7-996d-440a-8964-1e41eb475ae2\">\n",
              "  <button class=\"colab-df-quickchart\" onclick=\"quickchart('df-79f227a7-996d-440a-8964-1e41eb475ae2')\"\n",
              "            title=\"Suggest charts.\"\n",
              "            style=\"display:none;\">\n",
              "\n",
              "<svg xmlns=\"http://www.w3.org/2000/svg\" height=\"24px\"viewBox=\"0 0 24 24\"\n",
              "     width=\"24px\">\n",
              "    <g>\n",
              "        <path d=\"M19 3H5c-1.1 0-2 .9-2 2v14c0 1.1.9 2 2 2h14c1.1 0 2-.9 2-2V5c0-1.1-.9-2-2-2zM9 17H7v-7h2v7zm4 0h-2V7h2v10zm4 0h-2v-4h2v4z\"/>\n",
              "    </g>\n",
              "</svg>\n",
              "  </button>\n",
              "\n",
              "<style>\n",
              "  .colab-df-quickchart {\n",
              "      --bg-color: #E8F0FE;\n",
              "      --fill-color: #1967D2;\n",
              "      --hover-bg-color: #E2EBFA;\n",
              "      --hover-fill-color: #174EA6;\n",
              "      --disabled-fill-color: #AAA;\n",
              "      --disabled-bg-color: #DDD;\n",
              "  }\n",
              "\n",
              "  [theme=dark] .colab-df-quickchart {\n",
              "      --bg-color: #3B4455;\n",
              "      --fill-color: #D2E3FC;\n",
              "      --hover-bg-color: #434B5C;\n",
              "      --hover-fill-color: #FFFFFF;\n",
              "      --disabled-bg-color: #3B4455;\n",
              "      --disabled-fill-color: #666;\n",
              "  }\n",
              "\n",
              "  .colab-df-quickchart {\n",
              "    background-color: var(--bg-color);\n",
              "    border: none;\n",
              "    border-radius: 50%;\n",
              "    cursor: pointer;\n",
              "    display: none;\n",
              "    fill: var(--fill-color);\n",
              "    height: 32px;\n",
              "    padding: 0;\n",
              "    width: 32px;\n",
              "  }\n",
              "\n",
              "  .colab-df-quickchart:hover {\n",
              "    background-color: var(--hover-bg-color);\n",
              "    box-shadow: 0 1px 2px rgba(60, 64, 67, 0.3), 0 1px 3px 1px rgba(60, 64, 67, 0.15);\n",
              "    fill: var(--button-hover-fill-color);\n",
              "  }\n",
              "\n",
              "  .colab-df-quickchart-complete:disabled,\n",
              "  .colab-df-quickchart-complete:disabled:hover {\n",
              "    background-color: var(--disabled-bg-color);\n",
              "    fill: var(--disabled-fill-color);\n",
              "    box-shadow: none;\n",
              "  }\n",
              "\n",
              "  .colab-df-spinner {\n",
              "    border: 2px solid var(--fill-color);\n",
              "    border-color: transparent;\n",
              "    border-bottom-color: var(--fill-color);\n",
              "    animation:\n",
              "      spin 1s steps(1) infinite;\n",
              "  }\n",
              "\n",
              "  @keyframes spin {\n",
              "    0% {\n",
              "      border-color: transparent;\n",
              "      border-bottom-color: var(--fill-color);\n",
              "      border-left-color: var(--fill-color);\n",
              "    }\n",
              "    20% {\n",
              "      border-color: transparent;\n",
              "      border-left-color: var(--fill-color);\n",
              "      border-top-color: var(--fill-color);\n",
              "    }\n",
              "    30% {\n",
              "      border-color: transparent;\n",
              "      border-left-color: var(--fill-color);\n",
              "      border-top-color: var(--fill-color);\n",
              "      border-right-color: var(--fill-color);\n",
              "    }\n",
              "    40% {\n",
              "      border-color: transparent;\n",
              "      border-right-color: var(--fill-color);\n",
              "      border-top-color: var(--fill-color);\n",
              "    }\n",
              "    60% {\n",
              "      border-color: transparent;\n",
              "      border-right-color: var(--fill-color);\n",
              "    }\n",
              "    80% {\n",
              "      border-color: transparent;\n",
              "      border-right-color: var(--fill-color);\n",
              "      border-bottom-color: var(--fill-color);\n",
              "    }\n",
              "    90% {\n",
              "      border-color: transparent;\n",
              "      border-bottom-color: var(--fill-color);\n",
              "    }\n",
              "  }\n",
              "</style>\n",
              "\n",
              "  <script>\n",
              "    async function quickchart(key) {\n",
              "      const quickchartButtonEl =\n",
              "        document.querySelector('#' + key + ' button');\n",
              "      quickchartButtonEl.disabled = true;  // To prevent multiple clicks.\n",
              "      quickchartButtonEl.classList.add('colab-df-spinner');\n",
              "      try {\n",
              "        const charts = await google.colab.kernel.invokeFunction(\n",
              "            'suggestCharts', [key], {});\n",
              "      } catch (error) {\n",
              "        console.error('Error during call to suggestCharts:', error);\n",
              "      }\n",
              "      quickchartButtonEl.classList.remove('colab-df-spinner');\n",
              "      quickchartButtonEl.classList.add('colab-df-quickchart-complete');\n",
              "    }\n",
              "    (() => {\n",
              "      let quickchartButtonEl =\n",
              "        document.querySelector('#df-79f227a7-996d-440a-8964-1e41eb475ae2 button');\n",
              "      quickchartButtonEl.style.display =\n",
              "        google.colab.kernel.accessAllowed ? 'block' : 'none';\n",
              "    })();\n",
              "  </script>\n",
              "</div>\n",
              "    </div>\n",
              "  </div>\n"
            ]
          },
          "metadata": {},
          "execution_count": 104
        }
      ],
      "source": [
        "# Showing what the top lineups are\n",
        "df.head(10)"
      ]
    },
    {
      "cell_type": "code",
      "execution_count": null,
      "metadata": {
        "id": "R4TkXm-zddr3"
      },
      "outputs": [],
      "source": [
        "# df.to_csv('FF_Data_Wk5.csv', encoding = 'utf-8-sig', index=False)\n",
        "# files.download('FF_Data_Wk5.csv')"
      ]
    },
    {
      "cell_type": "code",
      "source": [],
      "metadata": {
        "id": "o-XjtWRvvVYy"
      },
      "execution_count": null,
      "outputs": []
    }
  ],
  "metadata": {
    "colab": {
      "machine_shape": "hm",
      "provenance": [],
      "include_colab_link": true
    },
    "kernelspec": {
      "display_name": "Python 3",
      "name": "python3"
    },
    "language_info": {
      "name": "python"
    }
  },
  "nbformat": 4,
  "nbformat_minor": 0
}